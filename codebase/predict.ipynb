{
  "nbformat": 4,
  "nbformat_minor": 0,
  "metadata": {
    "colab": {
      "provenance": []
    },
    "kernelspec": {
      "name": "python3",
      "display_name": "Python 3"
    },
    "language_info": {
      "name": "python"
    }
  },
  "cells": [
    {
      "cell_type": "code",
      "source": [
        "!pip install pandas"
      ],
      "metadata": {
        "colab": {
          "base_uri": "https://localhost:8080/"
        },
        "id": "8Qlx3wTFEZFV",
        "outputId": "7dba7d9b-597d-4d66-88ba-c1c8d3ce4fba"
      },
      "execution_count": 18,
      "outputs": [
        {
          "output_type": "stream",
          "name": "stdout",
          "text": [
            "Looking in indexes: https://pypi.org/simple, https://us-python.pkg.dev/colab-wheels/public/simple/\n",
            "Requirement already satisfied: pandas in /usr/local/lib/python3.10/dist-packages (1.5.3)\n",
            "Requirement already satisfied: python-dateutil>=2.8.1 in /usr/local/lib/python3.10/dist-packages (from pandas) (2.8.2)\n",
            "Requirement already satisfied: pytz>=2020.1 in /usr/local/lib/python3.10/dist-packages (from pandas) (2022.7.1)\n",
            "Requirement already satisfied: numpy>=1.21.0 in /usr/local/lib/python3.10/dist-packages (from pandas) (1.22.4)\n",
            "Requirement already satisfied: six>=1.5 in /usr/local/lib/python3.10/dist-packages (from python-dateutil>=2.8.1->pandas) (1.16.0)\n"
          ]
        }
      ]
    },
    {
      "cell_type": "markdown",
      "source": [
        "Filename : predict.py\n",
        "\n",
        "Libraries Required"
      ],
      "metadata": {
        "id": "lkOYzDn-_NK-"
      }
    },
    {
      "cell_type": "code",
      "execution_count": 19,
      "metadata": {
        "id": "Js6er8Fi53_w"
      },
      "outputs": [],
      "source": [
        "from features_extract import extract_features\n",
        "from joblib import load\n",
        "import pandas as pd\n",
        "import pickle"
      ]
    },
    {
      "cell_type": "markdown",
      "source": [
        "Loading of previously trained model"
      ],
      "metadata": {
        "id": "uLpLPqlt_SNV"
      }
    },
    {
      "cell_type": "code",
      "source": [
        "# Load the trained model and scaler\n",
        "with open('trained_model_and_scaler.pkl', 'rb') as f:\n",
        "    clf, scaler = pickle.load(f)"
      ],
      "metadata": {
        "id": "fHEPT5dY6iDU"
      },
      "execution_count": 20,
      "outputs": []
    },
    {
      "cell_type": "markdown",
      "source": [
        "function which handles the prediction"
      ],
      "metadata": {
        "id": "CRcx69Zc_VgJ"
      }
    },
    {
      "cell_type": "code",
      "source": [
        "def make_prediction(url):\n",
        "    # Extract the features from the URL\n",
        "    features_dict = extract_features(url)\n",
        "\n",
        "    # Convert the features dictionary to a DataFrame\n",
        "    features_df = pd.DataFrame([features_dict])\n",
        "\n",
        "    # Select only the columns that the model was trained on\n",
        "    # Assuming 'columns' is a list of the column names\n",
        "    columns = ['UsingIp', 'longUrl', 'shortUrl', 'symbol', 'redirecting', 'prefixSuffix', 'SubDomains', 'Https', 'hasSsl', 'DomainRegLen', 'Favicon', 'NonStdPort', 'Dots', 'Redirection //', 'InfoEmail', 'AbnormalURL', 'WebsiteForwarding', 'DisableRightClick', 'UsingPopupWindow', 'AgeofDomain', 'DNSRecording', 'LinksPointingToPage']\n",
        "    features = features_df[columns]\n",
        "\n",
        "    # Scale the features\n",
        "    features = scaler.transform(features)\n",
        "\n",
        "    # Use the trained model to make a prediction\n",
        "    prediction = clf.predict(features)\n",
        "\n",
        "    # Return the prediction\n",
        "    if prediction[0] == 0:\n",
        "        return \"The URL is legit.\"\n",
        "    else:\n",
        "        return \"The URL is phishing.\""
      ],
      "metadata": {
        "id": "whZ3b79g6jJT"
      },
      "execution_count": 21,
      "outputs": []
    },
    {
      "cell_type": "markdown",
      "source": [
        "To test locally without interfering flask"
      ],
      "metadata": {
        "id": "Xegr6RMLN1zv"
      }
    },
    {
      "cell_type": "code",
      "source": [
        "# If the script is run directly, ask for URL input\n",
        "if __name__ == \"__main__\":\n",
        "    url = input(\"Enter a URL: \")\n",
        "    print(make_prediction(url))"
      ],
      "metadata": {
        "colab": {
          "base_uri": "https://localhost:8080/"
        },
        "id": "6_2hezCMN0h7",
        "outputId": "6b135985-8720-4bc3-abd7-e51320be12f2"
      },
      "execution_count": 22,
      "outputs": [
        {
          "output_type": "stream",
          "name": "stdout",
          "text": [
            "Enter a URL: https://www.google.com\n",
            "The URL is legit.\n"
          ]
        }
      ]
    }
  ]
}